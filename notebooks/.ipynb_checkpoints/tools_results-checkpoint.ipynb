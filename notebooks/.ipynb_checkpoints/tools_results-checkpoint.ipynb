{
 "cells": [
  {
   "cell_type": "markdown",
   "metadata": {},
   "source": [
    "<h1>Results For Read Aligner Robustness<h1>\n"
   ]
  },
  {
   "cell_type": "markdown",
   "metadata": {},
   "source": [
    "<h2>Samples and Tools<h2>\n"
   ]
  },
  {
   "cell_type": "code",
   "execution_count": 270,
   "metadata": {},
   "outputs": [
    {
     "name": "stdout",
     "output_type": "stream",
     "text": [
      "/Users/pelin/projects/Read_Alignment/read.aligment.review\n"
     ]
    }
   ],
   "source": [
    "import os\n",
    "from pathlib import Path\n",
    "\n",
    "\n",
    "global read_009309\n",
    "global read_181410\n",
    "global read_183377\n",
    "\n",
    "global samp_009390\n",
    "global samp_181410\n",
    "global samp_183377\n",
    "\n",
    "read_009309 = 24237308\n",
    "read_181410 = 44590098\n",
    "read_183377 = 36747492\n",
    "\n",
    "samp_009390 = \"ERR009309_1_2\"\n",
    "samp_181410 = \"ERR181410_1_2\"\n",
    "samp_183377 = \"ERR183377_1_2\"\n",
    "\n",
    "nsamps = 3\n",
    "\n",
    "all_samples=[samp_009390, samp_181410, samp_183377]\n",
    "tools = ['bowtie2' , 'bowtie', 'subread' , 'smalt', 'STAR']\n",
    "\n",
    " \n",
    "dirpath = os.getcwd()\n",
    "# print(\"current directory is : \" + dirpath)\n",
    "\n",
    "# print(dirpath)\n",
    "# foldername = os.path.basename(dirpath)\n",
    "# print(\"Directory name is : \" + foldername)\n",
    "git_folder = str(Path(dirpath).parent)\n",
    "print(git_folder)\n",
    "# print(Path(dirpath).parent)\n",
    "\n",
    "# print([os.path.abspath(name) for name in os.listdir(\".\") if os.path.isdir(name)])\n"
   ]
  },
  {
   "cell_type": "markdown",
   "metadata": {},
   "source": [
    "<h2>Load raw data, read csv_files<h2>"
   ]
  },
  {
   "cell_type": "code",
   "execution_count": 271,
   "metadata": {},
   "outputs": [],
   "source": [
    "#import data\n",
    "import pandas as pd\n",
    "import matplotlib.pyplot as plt\n",
    "from matplotlib import pyplot\n",
    "from functools import reduce\n",
    "import numpy as np\n",
    "\n",
    "subread_df=pd.read_csv(git_folder + \"/raw_data/csv_files/subread_results.csv\")\n",
    "smalt_df=pd.read_csv(git_folder + \"/raw_data/csv_files/smalt_results.csv\")\n",
    "bowtie_df=pd.read_csv(git_folder + \"/raw_data/csv_files/bowtie_results.csv\")\n",
    "bowtie2_df=pd.read_csv(git_folder + \"/raw_data/csv_files/bowtie2_results.csv\")\n",
    "STAR_df=pd.read_csv(git_folder + \"/raw_data/csv_files/STAR_results.csv\")\n",
    "\n",
    "tool_df=[subread_df, smalt_df, bowtie_df, bowtie2_df, STAR_df]\n",
    "name_df=['subread', 'smalt','bowtie', 'bowtie2', 'STAR']\n",
    "\n",
    "new_tool_df=[]\n",
    "\n",
    "for t_df, n_df in zip(tool_df, name_df ):\n",
    "#     print(n_df)\n",
    "    t_df.insert(1,'#reads',None)\n",
    "    t_df.insert(4,'%read1',None)\n",
    "    t_df.insert(6,'%read2',None)\n",
    "    t_df.insert(2,'tool',n_df)\n",
    "    t_df.iloc[0:5,1] = read_009309\n",
    "    t_df.iloc[5:10,1] = read_181410\n",
    "    t_df.iloc[10:15,1] = read_183377\n",
    "    # drop column about edit distance it it exists for now\n",
    "    # bwa doesn't provide this info\n",
    "    t_df = t_df.drop(['r_pe','rp_e','rpc_e','rce_p','rc_pe'], axis=1, errors='ignore')\n",
    "    t_df['%read1']=round((t_df['unique mapped read 1'] * 100)/t_df['#reads'],2)\n",
    "    t_df['%read2']=round((t_df['unique mapped read 2'] * 100)/t_df['#reads'],2)\n",
    "    t_df.insert(loc=10, column='%com_read', value=round((t_df['reads'] * 100)/t_df['#reads'],2))\n",
    "\n",
    "    new_tool_df.append(t_df)\n",
    "\n",
    "\n",
    "# list of all tools and samples\n",
    "\n",
    "concat_df=reduce(lambda x, y: pd.concat([x, y]), new_tool_df)\n",
    "# concat_df\n",
    "# print(subread_df)\n",
    "# print(concat_df)\n",
    "# new_tool_df[2]\n",
    "\n",
    "\n",
    "\n",
    "\n"
   ]
  },
  {
   "cell_type": "markdown",
   "metadata": {},
   "source": [
    "<h2>Plot Bar Charts<h2>\n",
    "<h3>Plot Bar Charts for Unique Mapped Reads<h3>\n"
   ]
  },
  {
   "cell_type": "code",
   "execution_count": 549,
   "metadata": {},
   "outputs": [
    {
     "name": "stdout",
     "output_type": "stream",
     "text": [
      "       tool original vs     r_p\n",
      "0   subread           o   18664\n",
      "1   subread          s1   17824\n",
      "2   subread          s2   18071\n",
      "3   subread          s3   17967\n",
      "4   subread          rv   48951\n",
      "5   subread           o   50497\n",
      "6   subread          s1   50866\n",
      "7   subread          s2   50453\n",
      "8   subread          s3   50106\n",
      "9   subread          rv   67924\n",
      "10  subread           o   41431\n",
      "11  subread          s1   41904\n",
      "12  subread          s2   42359\n",
      "13  subread          s3   39885\n",
      "14  subread          rv   58637\n",
      "15    smalt           o       0\n",
      "16    smalt          s1       0\n",
      "17    smalt          s2       0\n",
      "18    smalt          s3       0\n",
      "19    smalt          rv  397387\n",
      "20    smalt           o       0\n",
      "21    smalt          s1       0\n",
      "22    smalt          s2       0\n",
      "23    smalt          s3       0\n",
      "24    smalt          rv  304327\n",
      "25    smalt           o       0\n",
      "26    smalt          s1       0\n",
      "27    smalt          s2       0\n",
      "28    smalt          s3       0\n",
      "29    smalt          rv  227535\n",
      "..      ...         ...     ...\n",
      "45  bowtie2           o       0\n",
      "46  bowtie2          s1       0\n",
      "47  bowtie2          s2       0\n",
      "48  bowtie2          s3       0\n",
      "49  bowtie2          rv    7122\n",
      "50  bowtie2           o       0\n",
      "51  bowtie2          s1       0\n",
      "52  bowtie2          s2       0\n",
      "53  bowtie2          s3       0\n",
      "54  bowtie2          rv    6613\n",
      "55  bowtie2           o       0\n",
      "56  bowtie2          s1       0\n",
      "57  bowtie2          s2       0\n",
      "58  bowtie2          s3       0\n",
      "59  bowtie2          rv    4829\n",
      "60     STAR           o       0\n",
      "61     STAR          s1       0\n",
      "62     STAR          s2       0\n",
      "63     STAR          s3       0\n",
      "64     STAR          rv   23651\n",
      "65     STAR           o       0\n",
      "66     STAR          s1       0\n",
      "67     STAR          s2       0\n",
      "68     STAR          s3       0\n",
      "69     STAR          rv   14693\n",
      "70     STAR           o       0\n",
      "71     STAR          s1       0\n",
      "72     STAR          s2       0\n",
      "73     STAR          s3       0\n",
      "74     STAR          rv   12028\n",
      "\n",
      "[75 rows x 3 columns]\n",
      "-----------\n",
      "       tool original vs   rp_c\n",
      "0   subread           o   8158\n",
      "1   subread          s1   8045\n",
      "2   subread          s2   7877\n",
      "3   subread          s3   7776\n",
      "4   subread          rv    538\n",
      "5   subread           o  22346\n",
      "6   subread          s1  23056\n",
      "7   subread          s2  22931\n",
      "8   subread          s3  23263\n",
      "9   subread          rv    850\n",
      "10  subread           o  21578\n",
      "11  subread          s1  20832\n",
      "12  subread          s2  21204\n",
      "13  subread          s3  20677\n",
      "14  subread          rv    772\n",
      "15    smalt           o      0\n",
      "16    smalt          s1      0\n",
      "17    smalt          s2      0\n",
      "18    smalt          s3      0\n",
      "19    smalt          rv   4703\n",
      "20    smalt           o      0\n",
      "21    smalt          s1      0\n",
      "22    smalt          s2      0\n",
      "23    smalt          s3      0\n",
      "24    smalt          rv   8604\n",
      "25    smalt           o      0\n",
      "26    smalt          s1      0\n",
      "27    smalt          s2      0\n",
      "28    smalt          s3      0\n",
      "29    smalt          rv   6648\n",
      "..      ...         ...    ...\n",
      "45  bowtie2           o      0\n",
      "46  bowtie2          s1      0\n",
      "47  bowtie2          s2      0\n",
      "48  bowtie2          s3      0\n",
      "49  bowtie2          rv      0\n",
      "50  bowtie2           o      0\n",
      "51  bowtie2          s1      0\n",
      "52  bowtie2          s2      0\n",
      "53  bowtie2          s3      0\n",
      "54  bowtie2          rv      0\n",
      "55  bowtie2           o      0\n",
      "56  bowtie2          s1      0\n",
      "57  bowtie2          s2      0\n",
      "58  bowtie2          s3      0\n",
      "59  bowtie2          rv      0\n",
      "60     STAR           o      0\n",
      "61     STAR          s1      0\n",
      "62     STAR          s2      0\n",
      "63     STAR          s3      0\n",
      "64     STAR          rv    636\n",
      "65     STAR           o      0\n",
      "66     STAR          s1      0\n",
      "67     STAR          s2      0\n",
      "68     STAR          s3      0\n",
      "69     STAR          rv    504\n",
      "70     STAR           o      0\n",
      "71     STAR          s1      0\n",
      "72     STAR          s2      0\n",
      "73     STAR          s3      0\n",
      "74     STAR          rv    465\n",
      "\n",
      "[75 rows x 3 columns]\n"
     ]
    },
    {
     "data": {
      "image/png": "[encoded data removed]",
      "text/plain": [
       "<Figure size 432x288 with 1 Axes>"
      ]
     },
     "metadata": {
      "needs_background": "light"
     },
     "output_type": "display_data"
    },
    {
     "data": {
      "image/png": "[encoded data removed]",
      "text/plain": [
       "<Figure size 432x288 with 1 Axes>"
      ]
     },
     "metadata": {
      "needs_background": "light"
     },
     "output_type": "display_data"
    }
   ],
   "source": [
    "# bar plots\n",
    "# different position numbers\n",
    "# bar plots \n",
    "# unique read mapped percentage\n",
    "\n",
    "concat_df_r_p=concat_df[['tool', 'original vs', 'r_p']]\n",
    "concat_df_r_p=concat_df_r_p.reset_index(drop=True)\n",
    "\n",
    "concat_df_rp_c=concat_df[['tool', 'original vs', 'rp_c']]\n",
    "concat_df_rp_c=concat_df_rp_c.reset_index(drop=True)\n",
    "print(concat_df_r_p)\n",
    "print(\"-----------\")\n",
    "print(concat_df_rp_c)\n",
    "\n",
    "\n",
    "\n",
    "\n",
    "def plot_bar_err(data_df, info, text):\n",
    "    plt.figure()\n",
    "    sns.barplot(x = \"tool\", y = info, hue = \"original vs\", data = data_df,\n",
    "                palette = 'hls',\n",
    "                order = ['subread', 'smalt', 'bowtie', 'bowtie2', 'STAR'], \n",
    "                capsize=0.05,  errwidth = 2, ci='sd')\n",
    "                path_to_save=git_folder + '/figures/bar_plots/'\n",
    "                plt.savefig(path_to_save + text + \".pdf\", bbox_inches='tight', dpi=50)\n",
    "    \n",
    "plot_bar_err(concat_df_r_p, 'r_p', 'diff_pos')\n",
    "plot_bar_err(concat_df_rp_c, 'rp_c', 'diff_cigar')\n",
    "\n",
    "\n",
    "\n",
    "\n",
    "\n",
    "\n",
    "\n",
    "\n",
    "\n",
    "\n",
    "\n"
   ]
  },
  {
   "cell_type": "code",
   "execution_count": 295,
   "metadata": {},
   "outputs": [
    {
     "name": "stdout",
     "output_type": "stream",
     "text": [
      "         original  shuffled     rv\n",
      "subread     75.52     75.52  75.53\n",
      "smalt       92.09     92.09  92.09\n",
      "bowtie      68.73     68.73  37.31\n",
      "bowtie2     69.36     69.36  69.25\n",
      "STAR        79.28     79.28  79.22\n",
      "         original  shuffled     rv\n",
      "subread     86.60     86.60   86.6\n",
      "smalt       92.07     92.07  92.07\n",
      "bowtie      82.54     82.54  81.04\n",
      "bowtie2     75.72     75.72  75.65\n",
      "STAR        89.69     89.69  89.68\n",
      "         original  shuffled     rv\n",
      "subread     86.72     86.72  86.72\n",
      "smalt       92.01     92.01  92.01\n",
      "bowtie      82.99     82.99  82.24\n",
      "bowtie2     75.51     75.51  75.45\n",
      "STAR        89.82     89.82  89.81\n"
     ]
    },
    {
     "data": {
      "image/png": "[encoded data removed]",
      "text/plain": [
       "<Figure size 432x288 with 1 Axes>"
      ]
     },
     "metadata": {
      "needs_background": "light"
     },
     "output_type": "display_data"
    },
    {
     "data": {
      "image/png": "[encoded data removed]",
      "text/plain": [
       "<Figure size 432x288 with 1 Axes>"
      ]
     },
     "metadata": {
      "needs_background": "light"
     },
     "output_type": "display_data"
    },
    {
     "data": {
      "image/png": "[encoded data removed]",
      "text/plain": [
       "<Figure size 432x288 with 1 Axes>"
      ]
     },
     "metadata": {
      "needs_background": "light"
     },
     "output_type": "display_data"
    }
   ],
   "source": [
    "# bar plots \n",
    "# unique read mapped percentage\n",
    "\n",
    "def plot_bar1(samp, h):\n",
    "    appended_data = []\n",
    "    cur_tool_df = []\n",
    "    cur_tool = []\n",
    "    for i in range((len(new_tool_df))):\n",
    "        cur_tool = new_tool_df[i]\n",
    "        read1_per=cur_tool[cur_tool['sample'] == samp]['%read1']\n",
    "        read1_per = read1_per.iloc[0]\n",
    "        cur_tool = cur_tool[cur_tool['sample'] == samp]\n",
    "        cur_tool=cur_tool[h]\n",
    "        headers = cur_tool.iloc[:,1]\n",
    "        cur_tool_t=cur_tool.transpose()\n",
    "        cur_tool=cur_tool_t.rename(columns=headers)\n",
    "        cur_tool.insert(loc=0, column='original', value=read1_per)\n",
    "        cur_tool=cur_tool.rename(index={'%read2': cur_tool.iloc[0,1]})\n",
    "        cur_tool= cur_tool[3:]\n",
    "#         print(cur_tool)\n",
    "#         print(cur_tool)\n",
    "        cols = ['o','s1','s2','s3']\n",
    "        cur_tool.insert(loc = 1, column='shuffled', value = cur_tool[cols].astype(float).mean(axis=1))\n",
    "        cur_tool =cur_tool.drop(cols, axis=1)\n",
    "\n",
    "\n",
    "        cur_tool_df.append(cur_tool)\n",
    "\n",
    "    appended_data = pd.concat(cur_tool_df)\n",
    "\n",
    "    ax=appended_data.plot(kind='bar')\n",
    "    ax.set_ylim(bottom=0, top=100)\n",
    "    plt.legend(['original', 'shuffled', 'rev comp'],\n",
    "               loc='center left', bbox_to_anchor=(1.0, 0.5))\n",
    "    print(appended_data)\n",
    "\n",
    "    plt.xticks(rotation=45)\n",
    "#     plt.savefig(samp + \".png\", bbox_inches='tight', dpi=100)\n",
    "\n",
    "for i in range(len(all_samples)):\n",
    "    plot_bar1(all_samples[i], ['tool', 'original vs', '%read1', '%read2'])\n",
    "\n",
    "\n",
    "\n"
   ]
  },
  {
   "cell_type": "markdown",
   "metadata": {},
   "source": [
    "<h3>Plot Bar Charts for Common Reads<h3>"
   ]
  },
  {
   "cell_type": "code",
   "execution_count": 276,
   "metadata": {},
   "outputs": [
    {
     "data": {
      "image/png": "[encoded data removed]",
      "text/plain": [
       "<Figure size 432x288 with 1 Axes>"
      ]
     },
     "metadata": {
      "needs_background": "light"
     },
     "output_type": "display_data"
    },
    {
     "data": {
      "image/png": "[encoded data removed]",
      "text/plain": [
       "<Figure size 432x288 with 1 Axes>"
      ]
     },
     "metadata": {
      "needs_background": "light"
     },
     "output_type": "display_data"
    },
    {
     "data": {
      "image/png": "[encoded data removed]",
      "text/plain": [
       "<Figure size 432x288 with 1 Axes>"
      ]
     },
     "metadata": {
      "needs_background": "light"
     },
     "output_type": "display_data"
    }
   ],
   "source": [
    "def plot_bar2(samp, h):\n",
    "    appended_data = []\n",
    "    cur_tool_df = []\n",
    "    cur_tool = []\n",
    "    for i in range((len(new_tool_df))):\n",
    "        cur_tool = new_tool_df[i]\n",
    "#         print(cur_tool)\n",
    "        cur_tool[cur_tool['sample'] == samp]['%com_read']\n",
    "        cur_tool = cur_tool[cur_tool['sample'] == samp]\n",
    "        cur_tool=cur_tool[h]\n",
    "        headers = cur_tool.iloc[:,1]\n",
    "#         print(headers)\n",
    "        cur_tool_t=cur_tool.transpose()\n",
    "        cur_tool=cur_tool_t.rename(columns=headers)\n",
    "        cur_tool=cur_tool.rename(index={'%com_read': cur_tool.iloc[0,1]})\n",
    "        cur_tool= cur_tool[2:]\n",
    "        cols = ['o','s1','s2','s3']\n",
    "        cur_tool.insert(loc = 1, column='shuffled', value = cur_tool[cols].astype(float).mean(axis=1))\n",
    "#         cur_tool=cur_tool.drop(cols, axis=1)\n",
    "        cur_tool =cur_tool.drop(cols, axis=1)\n",
    "#         print(cur_tool)\n",
    "        cur_tool_df.append(cur_tool)\n",
    "\n",
    "    appended_data = pd.concat(cur_tool_df)\n",
    "\n",
    "    ax=appended_data.plot(kind='bar')\n",
    "    ax.set_ylim(bottom=0, top=100)\n",
    "    plt.legend(['shuffled', 'rev comp'],\n",
    "               loc='center left', bbox_to_anchor=(1.0, 0.5))\n",
    "#     print(appended_data)\n",
    "\n",
    "    plt.xticks(rotation=45)\n",
    "#     plt.savefig(samp + \".png\", bbox_inches='tight', dpi=100)\n",
    "\n",
    "# data_df=reduce(lambda x, y: pd.concat([x, y]), appended_data)\n",
    "\n",
    "\n",
    "# sns.boxplot(x=\"tool\", y=\"unique mapped reads\", hue=\"read version\", data=data_df, palette=\"Set1\",linewidth=2)\n",
    "\n",
    "\n",
    "\n",
    "for i in range(len(all_samples)):\n",
    "       plot_bar2(all_samples[i], ['tool', 'original vs','%com_read'])\n",
    "\n",
    "\n"
   ]
  },
  {
   "cell_type": "markdown",
   "metadata": {},
   "source": [
    "<h2>Plot Box Plots<h2>\n",
    "<h3>Box Plots for Unique Mapped Reads<h3>"
   ]
  },
  {
   "cell_type": "code",
   "execution_count": 550,
   "metadata": {},
   "outputs": [
    {
     "data": {
      "image/png": "[encoded data removed]",
      "text/plain": [
       "<Figure size 432x288 with 1 Axes>"
      ]
     },
     "metadata": {
      "needs_background": "light"
     },
     "output_type": "display_data"
    }
   ],
   "source": [
    "# box plots \n",
    "# unique read mapped percentage\n",
    "import seaborn as sns\n",
    "\n",
    "data = []\n",
    "# print(len(new_tool_df))\n",
    "for i in range(len(new_tool_df)):\n",
    "    for k in range(len(all_samples)):\n",
    "        df=new_tool_df[i]\n",
    "        new_row = df[['sample', 'tool', 'original vs', 'unique mapped read 1']]\n",
    "        df = df[['sample', 'tool', 'original vs', 'unique mapped read 2']]\n",
    "        df = df[df['sample'] == all_samples[k]]\n",
    "        new_row = pd.DataFrame({'sample':all_samples[k],'tool':new_row['tool'][0],'original vs': 'original', \n",
    "                                'unique mapped read 2':new_row['unique mapped read 1'][0]}, index =[0])\n",
    "        df = pd.concat([new_row, df]).reset_index(drop = True) \n",
    "        df.rename(columns = {'unique mapped read 2':'unique mapped reads'}, inplace = True) \n",
    "\n",
    "        data.append(df)\n",
    "\n",
    "data_df=reduce(lambda x, y: pd.concat([x, y]), data)\n",
    "# print(data_df)\n",
    "data_df=data_df.reset_index(drop=True)\n",
    "data_df.rename(columns = {'original vs': 'read version'}, inplace = True) \n",
    "# print(data_df)\n",
    "\n",
    "\n",
    "\n",
    "sns.boxplot(x=\"tool\", y=\"unique mapped reads\", hue=\"read version\", data=data_df, palette=\"Set1\",linewidth=2)\n",
    "# sns.swarmplot(x=\"tool\", y=\"unique mapped reads\", hue=\"read version\", data=data_df, palette=\"Set1\",linewidth=2)\n",
    "plt.legend(bbox_to_anchor=(1.05,1))\n",
    "path_to_save=git_folder + '/figures/box_plots/'\n",
    "# plt.savefig(path_to_save + 'mapped_reads' + \".pdf\", bbox_inches='tight', dpi=50)\n",
    "\n"
   ]
  },
  {
   "cell_type": "code",
   "execution_count": 204,
   "metadata": {},
   "outputs": [
    {
     "data": {
      "image/png": "[encoded data removed]",
      "text/plain": [
       "<Figure size 432x288 with 1 Axes>"
      ]
     },
     "metadata": {
      "needs_background": "light"
     },
     "output_type": "display_data"
    }
   ],
   "source": [
    "# box plots \n",
    "# unique read mapped percentage\n",
    "import seaborn as sns\n",
    "# df = concat_df[['sample','tool']]\n",
    "# df = concat_df[['sample', 'tool', 'original vs', 'unique mapped read 2']]\n",
    "# df=df.reset_index(drop=True)\n",
    "# print(len(df))\n",
    "# df.insert(0, value={'sample': 'test', 'tool': 'test', 'original vs': 'test', 'unique mapped read 2': 'test'})\n",
    "\n",
    "\n",
    "# print(new_tool_df[0])\n",
    "# print(\"^^^^^^^^^^^^^\")\n",
    "data = []\n",
    "# print(len(new_tool_df))\n",
    "for i in range(len(new_tool_df)):\n",
    "    for k in range(len(all_samples)):\n",
    "        df=new_tool_df[i]\n",
    "#         print(df)\n",
    "        df = df[['sample', 'tool', 'original vs', '%com_read']]\n",
    "        df = df[df['sample'] == all_samples[k]]\n",
    "\n",
    "        df.rename(columns = {'%com_read':'common reads percentage'}, inplace = True) \n",
    "\n",
    "#         print(df)\n",
    "#         print(\"----------------\")\n",
    "\n",
    "        data.append(df)\n",
    "# print(data)\n",
    "# print(type(data))\n",
    "\n",
    "data_df=reduce(lambda x, y: pd.concat([x, y]), data)\n",
    "data_df=data_df.reset_index(drop=True)\n",
    "data_df.rename(columns = {'original vs': 'read version'}, inplace = True) \n",
    "\n",
    "\n",
    "# print(data_df.head(5))\n",
    "\n",
    "\n",
    "# data_df['unique mapped reads'][0] = 18303341\n",
    "# print(data_df['unique mapped reads'][0])\n",
    "# print(data_df.head(50))\n",
    "sns.boxplot(x=\"tool\", y=\"common reads percentage\", hue=\"read version\", data=data_df, palette=\"Set1\",linewidth=2)\n",
    "# sns.swarmplot(x=\"tool\", y=\"unique mapped reads\", hue=\"read version\", data=data_df, palette=\"Set1\",linewidth=2)\n",
    "plt.legend(bbox_to_anchor=(1.05,1))\n",
    "plt.ylim(0, 100)\n",
    "path_to_save=git_folder + '/figures/box_plots/'\n",
    "# print(path_to_save)\n",
    "# plt.savefig(path_to_save + 'com_reads' + \".pdf\", bbox_inches='tight', dpi=50)\n",
    "\n",
    "\n",
    "\n",
    "\n",
    "\n",
    "\n",
    "\n",
    "\n",
    "\n",
    "\n"
   ]
  },
  {
   "cell_type": "markdown",
   "metadata": {},
   "source": [
    "<h3>Pie Charts for Same read Different Positions<h3>"
   ]
  },
  {
   "cell_type": "code",
   "execution_count": 277,
   "metadata": {},
   "outputs": [],
   "source": [
    "# pie charts\n",
    "# diff pos, same pos\n",
    "import warnings\n",
    "warnings.filterwarnings('ignore')\n",
    "import logging\n",
    "logging.getLogger().setLevel(logging.CRITICAL)\n",
    "\n",
    "def plot1(tool_df, samp, headers, title):\n",
    "    tool_df=tool_df[tool_df['sample'] == samp]\n",
    "    tool_df=tool_df[['original vs', 'rp' ,'r_p',]]\n",
    "#     print(tool_df)\n",
    "    tool_df=tool_df.transpose()\n",
    "    tool_df=tool_df[1:]\n",
    "    tool_df.columns = headers\n",
    "\n",
    "    vals = tool_df.values\n",
    "    vals1 = vals[0]\n",
    "    vals2 = vals[1]\n",
    "    \n",
    "    sub_plots=tool_df.plot.pie(y=headers, subplots=True,labels=None, figsize =(20,5),autopct='%1.2f%%',\n",
    "                     labeldistance=1, explode = (0.2, 0), colors=['blue', 'red'],fontsize = 15,\n",
    "                              shadow=True)\n",
    "    \n",
    "#     vals = []\n",
    "#     for i in range(len(tool_df)):\n",
    "#         vals[i] = tool_df[i]\n",
    "    actual_val = []\n",
    "    for j in range(len(sub_plots)):\n",
    "\n",
    "        sub_plots[j].legend( loc=\"best\", labels=['same pos', 'diff pos'])\n",
    "#         print(tool_df.values)\n",
    "#         sub_plots[j].legend( loc=\"best\", labels=[None,vals2[j]])\n",
    "\n",
    "\n",
    "    plt.suptitle(title, fontsize=20)\n",
    "    \n",
    "\n",
    "#     plt.savefig(title + \"_\" + samp + \".png\", bbox_inches='tight', dpi=50)\n",
    "\n",
    "\n",
    "\n",
    "head=[\"ordered\", \"shuffled1\", \"shuffled2\", \"shuffled3\", \"rev comp\"]\n",
    "# plot1(subread_df, all_samples[0], head,'subread')\n",
    "# for i in range(len(all_samples)):\n",
    "# for i in range(1):\n",
    "#     plot1(subread_df, all_samples[2], head,'subread')\n",
    "#     plot1(bowtie_df, all_samples[2], head, 'bowtie')\n",
    "#     plot1(bowtie2_df, all_samples[2], head, 'bowtie2')\n",
    "#     plot1(STAR_df, all_samples[2], head, 'STAR')\n",
    "\n",
    "\n",
    "\n",
    "\n"
   ]
  },
  {
   "cell_type": "code",
   "execution_count": 278,
   "metadata": {},
   "outputs": [],
   "source": [
    "# pie charts\n",
    "# pie chart same pos same read diff cigar\n",
    "\n",
    "import warnings\n",
    "warnings.filterwarnings('ignore')\n",
    "import logging\n",
    "logging.getLogger().setLevel(logging.CRITICAL)\n",
    "\n",
    "def plot1(tool_df, samp, headers, title):\n",
    "    tool_df=tool_df[tool_df['sample'] == samp]\n",
    "    tool_df=tool_df[['original vs', 'rp' ,'rp_c',]]\n",
    "    tool_df.insert(loc = 1, column='rpc',value = tool_df['rp'] - tool_df['rp_c'])\n",
    "#     tool_df = tool_df.drop(['rp'])\n",
    "    tool_df = tool_df.drop(['rp'], axis=1)\n",
    "#     print(tool_df)\n",
    "#     cur_tool.insert(loc=0, column='original', value=read1_per)\n",
    "    tool_df=tool_df.transpose()\n",
    "    tool_df=tool_df[1:]\n",
    "    tool_df.columns = headers\n",
    "\n",
    "\n",
    "    sub_plots=tool_df.plot.pie(y=headers, subplots=True,labels=None, autopct='%1.2f%%', figsize =(20,5),\n",
    "                     labeldistance=1, explode = (0.2, 0), colors=['blue', 'red'],fontsize = 15, shadow=True)\n",
    "    \n",
    "    for j in range(len(sub_plots)):\n",
    "        sub_plots[j].legend( loc=\"best\", labels=['same cigar', 'diff cigar'])\n",
    "    plt.suptitle(title, fontsize=20)\n",
    "    \n",
    "    \n",
    "#     plt.setp(autopcts, **{'color':'white', 'weight':'bold', 'fontsize':12.5})\n",
    "#     ax1.set_title('Frauen', fontdict={'fontsize': 17})\n",
    "    \n",
    "#     plt.rcParams['font.weight'] = 1\n",
    "#     plt.savefig(title + \"_\" + samp + \".png\", bbox_inches='tight', dpi=50)\n",
    "\n",
    "\n",
    "\n",
    "head=[\"ordered\", \"shuffled1\", \"shuffled2\", \"shuffled3\", \"rev comp\"]\n",
    "\n",
    "# for i in range(len(all_samples)):\n",
    "# for i in range(1):\n",
    "#     plot1(subread_df, all_samples[0], head,'subread')\n",
    "#     plot1(smalt_df, all_samples[2], head, 'smalt')\n",
    "#     plot1(bowtie_df, all_samples[2], head, 'bowtie')\n",
    "#     plot1(bowtie2_df, all_samples[2], head, 'bowtie2')\n",
    "#     plot1(STAR_df, all_samples[2], head, 'STAR')\n",
    "\n",
    "\n"
   ]
  },
  {
   "cell_type": "markdown",
   "metadata": {},
   "source": [
    "<h3>Violin Plots for Position Difference<h3>"
   ]
  },
  {
   "cell_type": "code",
   "execution_count": null,
   "metadata": {},
   "outputs": [],
   "source": [
    "import glob, os\n",
    "import sys\n",
    "import seaborn as sns\n",
    "import pandas as pd\n",
    "import matplotlib.pyplot as plt\n",
    "from functools import reduce\n",
    "import numpy as np\n",
    "from statistics import median\n",
    "import textwrap\n",
    "\n",
    "\n",
    "os.chdir(git_folder + '/raw_data/txt_files')\n",
    "\n",
    "df_file = []\n",
    "df_file_txt = []\n",
    "\n",
    "tool = tools[2]\n",
    "samp = samp_009390\n",
    "\n",
    "# for i in range(len(all_samples)):\n",
    "# files = sorted(glob.glob(tool + \"_\" + all_samples[i] + \"_*.txt\"))\n",
    "files = sorted(glob.glob(tool + \"_\" + samp + \"_*.txt\"))\n",
    "\n",
    "\n",
    "path_to_save=\"../../figures/violin_plots/\" + tool + \"/\"\n",
    "print(path_to_save)\n",
    "\n",
    "for file in files: \n",
    "    df_file.append(file)\n",
    "    df_file_txt.append(pd.read_csv(file, header=None))\n",
    "\n",
    "data = [None,None,None,None,None]\n",
    "\n",
    "for i in range(len(df_file_txt)):\n",
    "#     print(df_file[i])\n",
    "    if \"_o-\" in df_file[i]:\n",
    "        data[0] = np.asarray(df_file_txt[i])\n",
    "    elif \"_rv-\" in df_file[i]:\n",
    "        data[1]=np.asarray(df_file_txt[i])\n",
    "\n",
    "    elif \"_s1-\" in df_file[i]:\n",
    "        data[2]=np.asarray(df_file_txt[i])\n",
    "    elif \"_s2-\" in df_file[i]:\n",
    "        data[3]=np.asarray(df_file_txt[i])\n",
    "    elif \"_s3-\" in df_file[i]:\n",
    "        data[4]=np.asarray(df_file_txt[i])\n",
    "\n",
    "data=[np.asarray(0) if v is None else v for v in data]\n",
    "# show the plot\n",
    "# plt.show()\n",
    "# sns.set_style('whitegrid')\n",
    "# fig, ax = plt.subplots()\n",
    "# # the size of A4 paper\n",
    "# fig.set_size_inches(20, 10)\n",
    "# # sns.violinplot(data=d, inner=\"points\", ax=ax) \n",
    "# # print(len(data))\n",
    "# sns.violinplot(data=data,  palette=['r','g','b','m','y'], inner='box', scale='count')\n",
    "# ax.set_xticklabels(['o','rv','s1','s2','s3'], size= 30)\n",
    "# # ylabels = ['Position difference between','original reads and alternative ordered reads']\n",
    "# plt.xlabel(\"alternative ordered reads\", fontsize=30)\n",
    "# plt.ylabel('Position difference',fontsize=30)\n",
    "\n",
    "# ax.set_xticklabels(textwrap.fill(x.get_text(), 2) for x in ax.get_xticklabels())\n",
    "\n",
    "\n",
    "# plt.savefig(path_to_save + tool + \"_\" + all_samples[i] + \".pdf\", bbox_inches='tight', dpi=300)\n",
    "# plt.savefig(path_to_save + tool + \"_\" + samp + \".pdf\", bbox_inches='tight', dpi=300)\n",
    "\n"
   ]
  }
 ],
 "metadata": {
  "kernelspec": {
   "display_name": "Python 3",
   "language": "python",
   "name": "python3"
  },
  "language_info": {
   "codemirror_mode": {
    "name": "ipython",
    "version": 3
   },
   "file_extension": ".py",
   "mimetype": "text/x-python",
   "name": "python",
   "nbconvert_exporter": "python",
   "pygments_lexer": "ipython3",
   "version": "3.7.3"
  }
 },
 "nbformat": 4,
 "nbformat_minor": 2
}
