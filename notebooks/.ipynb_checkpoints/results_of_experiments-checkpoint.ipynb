{
 "cells": [
  {
   "cell_type": "code",
   "execution_count": 7,
   "metadata": {},
   "outputs": [],
   "source": [
    "global read_009309\n",
    "global read_181410\n",
    "global read_183377\n",
    "\n",
    "global samp_009390\n",
    "global samp_181410\n",
    "global samp_183377\n",
    "\n",
    "read_009309 = 24237308\n",
    "read_181410 = 44590098\n",
    "read_183377 = 36747492\n",
    "\n",
    "samp_009390 = \"ERR009309_1_2\"\n",
    "samp_181410 = \"ERR181410_1_2\"\n",
    "samp_183377 = \"ERR183377_1_2\"\n",
    "\n",
    "tool = ['bowtie' , 'bowtie2', 'bwa', 'smalt', 'STAR', 'subread']"
   ]
  },
  {
   "cell_type": "code",
   "execution_count": 8,
   "metadata": {},
   "outputs": [],
   "source": [
    "import pandas as pd\n",
    "import dask.dataframe as dd\n",
    "\n",
    "bowtie_df1 = dd.read_csv('../raw_data/csv_files/' + tool[0]+ '_' + samp_009390 +\".csv\")\n",
    "bowtie2_df1 = dd.read_csv('../raw_data/csv_files/' + tool[1]+ '_' + samp_009390 +\".csv\")\n",
    "bwa_df1 = dd.read_csv('../raw_data/csv_files/' + tool[2]+ '_' + samp_009390 +\".csv\")\n",
    "smalt_df1 = dd.read_csv('../raw_data/csv_files/' + tool[3]+ '_' + samp_009390 +\".csv\")\n",
    "STAR_df1 = dd.read_csv('../raw_data/csv_files/' + tool[4]+ '_' + samp_009390 +\".csv\")\n",
    "subread_df1 = dd.read_csv('../raw_data/csv_files/' + tool[5]+ '_' + samp_009390 +\".csv\")\n"
   ]
  },
  {
   "cell_type": "code",
   "execution_count": 10,
   "metadata": {},
   "outputs": [],
   "source": [
    "# compute total mapped reads\n",
    "g_samp1 = [bowtie_df1['g:mapped'].sum().compute(), bowtie2_df1['g:mapped'].sum().compute(),\n",
    "         bwa_df1['g:mapped'].sum().compute(), smalt_df1['g:mapped'].sum().compute(),\n",
    "         STAR_df1['g:mapped'].sum().compute(), subread_df1['g:mapped'].sum().compute()]\n",
    "\n",
    "o_samp1 = [bowtie_df1['g:mapped'].sum().compute(), bowtie2_df1['g:mapped'].sum().compute(),\n",
    "         bwa_df1['g:mapped'].sum().compute(), smalt_df1['g:mapped'].sum().compute(),\n",
    "         STAR_df1['g:mapped'].sum().compute(), subread_df1['g:mapped'].sum().compute()]\n",
    "\n",
    "s1_samp1 = [bowtie_df1['s1:mapped'].sum().compute(), bowtie2_df1['s1:mapped'].sum().compute(),\n",
    "         bwa_df1['s1:mapped'].sum().compute(), smalt_df1['s1:mapped'].sum().compute(),\n",
    "         STAR_df1['s1:mapped'].sum().compute(), subread_df1['s1:mapped'].sum().compute()]\n",
    "\n",
    "s2_samp1 = [bowtie_df1['s2:mapped'].sum().compute(), bowtie2_df1['s2:mapped'].sum().compute(),\n",
    "         bwa_df1['s2:mapped'].sum().compute(), smalt_df1['s2:mapped'].sum().compute(),\n",
    "         STAR_df1['s2:mapped'].sum().compute(), subread_df1['s2:mapped'].sum().compute()]\n",
    "\n",
    "s3_samp1 = [bowtie_df1['s3:mapped'].sum().compute(), bowtie2_df1['s3:mapped'].sum().compute(),\n",
    "         bwa_df1['s3:mapped'].sum().compute(), smalt_df1['s3:mapped'].sum().compute(),\n",
    "         STAR_df1['s3:mapped'].sum().compute(), subread_df1['s3:mapped'].sum().compute()]\n",
    "\n",
    "rv_samp1 = [bowtie_df1['rv:mapped'].sum().compute(), bowtie2_df1['rv:mapped'].sum().compute(),\n",
    "         bwa_df1['rv:mapped'].sum().compute(), smalt_df1['rv:mapped'].sum().compute(),\n",
    "         STAR_df1['rv:mapped'].sum().compute(), subread_df1['rv:mapped'].sum().compute()]"
   ]
  },
  {
   "cell_type": "code",
   "execution_count": 153,
   "metadata": {},
   "outputs": [],
   "source": [
    "df_g_samp1 = pd.DataFrame(zip(tool, ['g']*6, g_samp1), columns=['tool', 'version', 'value'])\n",
    "df_o_samp1 = pd.DataFrame(zip(tool, ['o']*6, o_samp1), columns=['tool', 'version', 'value'])\n",
    "df_s1_samp1 = pd.DataFrame(zip(tool, ['s1']*6, s1_samp1), columns=['tool', 'version', 'value'])\n",
    "df_s2_samp1 = pd.DataFrame(zip(tool, ['s2']*6, s2_samp1), columns=['tool', 'version', 'value'])\n",
    "df_s3_samp1 = pd.DataFrame(zip(tool, ['s3']*6, s3_samp1), columns=['tool', 'version', 'value'])\n",
    "df_rv_samp1 = pd.DataFrame(zip(tool, ['rv']*6, rv_samp1), columns=['tool', 'version', 'value'])"
   ]
  },
  {
   "cell_type": "code",
   "execution_count": 154,
   "metadata": {},
   "outputs": [
    {
     "data": {
      "text/html": [
       "<div>\n",
       "<style scoped>\n",
       "    .dataframe tbody tr th:only-of-type {\n",
       "        vertical-align: middle;\n",
       "    }\n",
       "\n",
       "    .dataframe tbody tr th {\n",
       "        vertical-align: top;\n",
       "    }\n",
       "\n",
       "    .dataframe thead th {\n",
       "        text-align: right;\n",
       "    }\n",
       "</style>\n",
       "<table border=\"1\" class=\"dataframe\">\n",
       "  <thead>\n",
       "    <tr style=\"text-align: right;\">\n",
       "      <th>tool</th>\n",
       "      <th>STAR</th>\n",
       "      <th>bowtie</th>\n",
       "      <th>bowtie2</th>\n",
       "      <th>bwa</th>\n",
       "      <th>smalt</th>\n",
       "      <th>subread</th>\n",
       "    </tr>\n",
       "    <tr>\n",
       "      <th>version</th>\n",
       "      <th></th>\n",
       "      <th></th>\n",
       "      <th></th>\n",
       "      <th></th>\n",
       "      <th></th>\n",
       "      <th></th>\n",
       "    </tr>\n",
       "  </thead>\n",
       "  <tbody>\n",
       "    <tr>\n",
       "      <th>g</th>\n",
       "      <td>79.278181</td>\n",
       "      <td>68.727274</td>\n",
       "      <td>69.355219</td>\n",
       "      <td>75.517372</td>\n",
       "      <td>92.085033</td>\n",
       "      <td>69.364374</td>\n",
       "    </tr>\n",
       "    <tr>\n",
       "      <th>o</th>\n",
       "      <td>79.278181</td>\n",
       "      <td>68.727274</td>\n",
       "      <td>69.355219</td>\n",
       "      <td>75.517372</td>\n",
       "      <td>92.085033</td>\n",
       "      <td>69.364374</td>\n",
       "    </tr>\n",
       "    <tr>\n",
       "      <th>rv</th>\n",
       "      <td>79.222684</td>\n",
       "      <td>37.312762</td>\n",
       "      <td>69.248247</td>\n",
       "      <td>75.527748</td>\n",
       "      <td>92.092323</td>\n",
       "      <td>69.399073</td>\n",
       "    </tr>\n",
       "    <tr>\n",
       "      <th>s1</th>\n",
       "      <td>79.278181</td>\n",
       "      <td>68.727274</td>\n",
       "      <td>69.355219</td>\n",
       "      <td>75.518362</td>\n",
       "      <td>92.085033</td>\n",
       "      <td>69.364374</td>\n",
       "    </tr>\n",
       "    <tr>\n",
       "      <th>s2</th>\n",
       "      <td>79.278181</td>\n",
       "      <td>68.727274</td>\n",
       "      <td>69.355219</td>\n",
       "      <td>75.518482</td>\n",
       "      <td>92.085033</td>\n",
       "      <td>69.364374</td>\n",
       "    </tr>\n",
       "    <tr>\n",
       "      <th>s3</th>\n",
       "      <td>79.278181</td>\n",
       "      <td>68.727274</td>\n",
       "      <td>69.355219</td>\n",
       "      <td>75.519047</td>\n",
       "      <td>92.085033</td>\n",
       "      <td>69.364374</td>\n",
       "    </tr>\n",
       "  </tbody>\n",
       "</table>\n",
       "</div>"
      ],
      "text/plain": [
       "tool          STAR     bowtie    bowtie2        bwa      smalt    subread\n",
       "version                                                                  \n",
       "g        79.278181  68.727274  69.355219  75.517372  92.085033  69.364374\n",
       "o        79.278181  68.727274  69.355219  75.517372  92.085033  69.364374\n",
       "rv       79.222684  37.312762  69.248247  75.527748  92.092323  69.399073\n",
       "s1       79.278181  68.727274  69.355219  75.518362  92.085033  69.364374\n",
       "s2       79.278181  68.727274  69.355219  75.518482  92.085033  69.364374\n",
       "s3       79.278181  68.727274  69.355219  75.519047  92.085033  69.364374"
      ]
     },
     "execution_count": 154,
     "metadata": {},
     "output_type": "execute_result"
    }
   ],
   "source": [
    "df_all_samp1=pd.concat([df_g_samp1, df_o_samp1, df_s1_samp1, df_s2_samp1, df_s3_samp1, df_rv_samp1])\n",
    "df_all_samp1['value']=(df_all_samp1['value']*100)/read_009309\n",
    "pivot_df_all_samp1 = df_all_samp1.pivot(index='version', columns='tool', values='value')\n",
    "pivot_df_all_samp1"
   ]
  },
  {
   "cell_type": "code",
   "execution_count": 155,
   "metadata": {},
   "outputs": [
    {
     "data": {
      "image/png": "[encoded data removed]",
      "text/plain": [
       "<Figure size 720x504 with 1 Axes>"
      ]
     },
     "metadata": {},
     "output_type": "display_data"
    }
   ],
   "source": [
    "import matplotlib.pyplot as plt\n",
    "import matplotlib\n",
    "\n",
    "matplotlib.style.use('ggplot')\n",
    "pivot_df_all_samp1.loc[:,tool].plot.bar(stacked=True, figsize=(10,7))\n",
    "\n",
    "plt.legend(bbox_to_anchor=(1,1))\n",
    "\n",
    "plt.savefig('../figures/figure1' + \".pdf\", bbox_inches='tight', dpi=50)"
   ]
  },
  {
   "cell_type": "code",
   "execution_count": 163,
   "metadata": {},
   "outputs": [],
   "source": [
    "def read_intersect(t_df, vtext):\n",
    "    return len(t_df[(t_df['g:mapped']==1) & (t_df[vtext] == 1)])"
   ]
  },
  {
   "cell_type": "code",
   "execution_count": 165,
   "metadata": {},
   "outputs": [],
   "source": [
    "bowtie_go=(read_intersect(bowtie_df1[['g:mapped', 'o:mapped']], 'o:mapped')*100)/g_samp1[0]\n",
    "bowtie_gs1=(read_intersect(bowtie_df1[['g:mapped', 's1:mapped']], 's1:mapped')*100)/s1_samp1[0]\n",
    "bowtie_gs2=(read_intersect(bowtie_df1[['g:mapped', 's2:mapped']], 's2:mapped')*100)/s2_samp1[0]\n",
    "bowtie_gs3=(read_intersect(bowtie_df1[['g:mapped', 's3:mapped']], 's3:mapped')*100)/s3_samp1[0]\n",
    "bowtie_grv=(read_intersect(bowtie_df1[['g:mapped', 'rv:mapped']], 'rv:mapped')*100)/rv_samp1[0]"
   ]
  },
  {
   "cell_type": "code",
   "execution_count": null,
   "metadata": {},
   "outputs": [],
   "source": [
    "bowtie2_go=(read_intersect(bowtie2_df1[['g:mapped', 'o:mapped']], 'o:mapped')*100)/g_samp1[1]\n",
    "bowtie2_gs1=(read_intersect(bowtie2_df1[['g:mapped', 's1:mapped']], 's1:mapped')*100)/s1_samp1[1]\n",
    "bowtie2_gs2=(read_intersect(bowtie2_df1[['g:mapped', 's2:mapped']], 's2:mapped')*100)/s2_samp1[1]\n",
    "bowtie2_gs3=(read_intersect(bowtie2_df1[['g:mapped', 's3:mapped']], 's3:mapped')*100)/s3_samp1[1]\n",
    "bowtie2_grv=(read_intersect(bowtie2_df1[['g:mapped', 'rv:mapped']], 'rv:mapped')*100)/rv_samp1[1]"
   ]
  },
  {
   "cell_type": "code",
   "execution_count": 174,
   "metadata": {},
   "outputs": [
    {
     "data": {
      "text/plain": [
       "182.9388245334357"
      ]
     },
     "execution_count": 174,
     "metadata": {},
     "output_type": "execute_result"
    }
   ],
   "source": [
    "bowtie2_grv"
   ]
  },
  {
   "cell_type": "code",
   "execution_count": 173,
   "metadata": {},
   "outputs": [
    {
     "data": {
      "image/png": "[encoded data removed]",
      "text/plain": [
       "<Figure size 432x288 with 1 Axes>"
      ]
     },
     "metadata": {},
     "output_type": "display_data"
    }
   ],
   "source": [
    "import matplotlib.pyplot as plt\n",
    "\n",
    "# Pie chart, where the slices will be ordered and plotted counter-clockwise:\n",
    "labels = 'original', 'ordered'\n",
    "sizes = [100,100-bowtie2_grv]\n",
    "explode = (0, 0.1)  # only \"explode\" the 2nd slice (i.e. 'Hogs')\n",
    "\n",
    "fig1, ax1 = plt.subplots()\n",
    "ax1.pie(sizes, explode=explode, labels=labels, autopct='%1.1f%%',\n",
    "        shadow=True, startangle=90)\n",
    "ax1.axis('equal')  # Equal aspect ratio ensures that pie is drawn as a circle.\n",
    "\n",
    "plt.show()"
   ]
  }
 ],
 "metadata": {
  "kernelspec": {
   "display_name": "Python 3",
   "language": "python",
   "name": "python3"
  },
  "language_info": {
   "codemirror_mode": {
    "name": "ipython",
    "version": 3
   },
   "file_extension": ".py",
   "mimetype": "text/x-python",
   "name": "python",
   "nbconvert_exporter": "python",
   "pygments_lexer": "ipython3",
   "version": "3.7.3"
  }
 },
 "nbformat": 4,
 "nbformat_minor": 2
}
